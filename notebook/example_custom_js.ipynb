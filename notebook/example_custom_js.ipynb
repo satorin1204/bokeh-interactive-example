{
 "cells": [
  {
   "cell_type": "code",
   "execution_count": null,
   "source": [
    "from bokeh.io import output_notebook, show\n",
    "from bokeh.models import (\n",
    "    Plot,\n",
    "    Range1d,\n",
    "    HoverTool,\n",
    "    TapTool,\n",
    "    BoxSelectTool,\n",
    "    LassoSelectTool,\n",
    "    CustomJS,\n",
    ")\n",
    "import sys\n",
    "sys.path.append(\"../src\")\n",
    "from utils import get_graph_renderer\n",
    "# notebook　出力するため\n",
    "output_notebook()"
   ],
   "outputs": [],
   "metadata": {}
  },
  {
   "cell_type": "code",
   "execution_count": null,
   "source": [
    "plot = Plot(\n",
    "    width=400, height=400, x_range=Range1d(-1.3, 1.3), y_range=Range1d(-1.3, 1.3)\n",
    ")\n",
    "plot.title.text = \"CustomJS を使った描画\"\n",
    "graph_renderer = get_graph_renderer()\n",
    "# JavaScriptでコールバック関数を書く\n",
    "code = \"\"\"\n",
    "    const indices = node_data.selected.indices;\n",
    "    const connected_indices = [];\n",
    "    var node, neighbor_node, neighbor_index;\n",
    "    for (let i = 0; i < indices.length; i++) {\n",
    "        node = node_data.data.index[indices[i]];\n",
    "        for (let j = 0; j < edge_data.data.start.length; j++) {\n",
    "            if (node == edge_data.data.start[j]) {\n",
    "                neighbor_node =  edge_data.data.end[j];\n",
    "                neighbor_index = node_data.data.index.indexOf(neighbor_node);\n",
    "                connected_indices.push(neighbor_index);\n",
    "            }\n",
    "        }\n",
    "        for (let j = 0; j < edge_data.data.end.length; j++) {\n",
    "            if (node == edge_data.data.end[j]) {\n",
    "                neighbor_node =  edge_data.data.start[j];\n",
    "                neighbor_index = node_data.data.index.indexOf(neighbor_node);\n",
    "                connected_indices.push(neighbor_index);\n",
    "            }\n",
    "        }\n",
    "    }\n",
    "    for (let i = 0; i < node_data.data.color.length; i++) {\n",
    "        if (indices.includes(i)) {\n",
    "            node_data.data.color[i] = \"red\";\n",
    "        }\n",
    "        else if (connected_indices.includes(i)){\n",
    "            node_data.data.color[i] = \"yellow\";\n",
    "        } else {\n",
    "            node_data.data.color[i] = \"blue\";\n",
    "        }\n",
    "    }\n",
    "    node_data.change.emit();\n",
    "\"\"\"\n",
    "# 必要なdata_sourceを渡す（今回はnodeとedgeのdata_source）\n",
    "args = {\n",
    "    \"node_data\": graph_renderer.node_renderer.data_source,\n",
    "    \"edge_data\": graph_renderer.edge_renderer.data_source,\n",
    "    \"renderers\": [graph_renderer.node_renderer],\n",
    "}\n",
    "callback = CustomJS(args=args, code=code)\n",
    "# 選択したnodeの変更でコールバックする\n",
    "graph_renderer.node_renderer.data_source.selected.js_on_change(\"indices\", callback)\n",
    "hover_tool = HoverTool(tooltips=[(\"index\", \"@index\"), (\"color\", \"@color\")])\n",
    "plot.renderers.append(graph_renderer)\n",
    "plot.add_tools(TapTool(), BoxSelectTool(), LassoSelectTool(), hover_tool)"
   ],
   "outputs": [],
   "metadata": {}
  },
  {
   "cell_type": "code",
   "execution_count": null,
   "source": [
    "show(plot)"
   ],
   "outputs": [],
   "metadata": {}
  },
  {
   "cell_type": "code",
   "execution_count": null,
   "source": [],
   "outputs": [],
   "metadata": {}
  }
 ],
 "metadata": {
  "kernelspec": {
   "display_name": "Python 3 (ipykernel)",
   "language": "python",
   "name": "python3"
  },
  "language_info": {
   "codemirror_mode": {
    "name": "ipython",
    "version": 3
   },
   "file_extension": ".py",
   "mimetype": "text/x-python",
   "name": "python",
   "nbconvert_exporter": "python",
   "pygments_lexer": "ipython3",
   "version": "3.7.7"
  }
 },
 "nbformat": 4,
 "nbformat_minor": 5
}