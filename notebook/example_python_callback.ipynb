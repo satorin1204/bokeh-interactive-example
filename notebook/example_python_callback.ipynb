{
 "cells": [
  {
   "cell_type": "code",
   "execution_count": null,
   "id": "d1d4570c",
   "metadata": {},
   "outputs": [],
   "source": [
    "from bokeh.io import show, output_notebook\n",
    "from bokeh.models import (\n",
    "    Plot,\n",
    "    Range1d,\n",
    "    HoverTool,\n",
    "    TapTool,\n",
    "    BoxSelectTool,\n",
    "    LassoSelectTool,\n",
    ")\n",
    "import sys\n",
    "\n",
    "sys.path.append(\"../src\")\n",
    "from utils import get_graph_renderer\n",
    "output_notebook()"
   ]
  },
  {
   "cell_type": "code",
   "execution_count": null,
   "id": "521aa87c",
   "metadata": {},
   "outputs": [],
   "source": [
    "# jupyter の場合はdef app(doc) という関数を作り、それをshow(app)する。\n",
    "def app(doc):\n",
    "    plot = Plot(\n",
    "        width=400, height=400, x_range=Range1d(-1.3, 1.3), y_range=Range1d(-1.3, 1.3)\n",
    "    )\n",
    "    plot.title.text = \"CustomJS を使った描画\"\n",
    "    graph_renderer = get_graph_renderer()\n",
    "\n",
    "    def update_color(indices):\n",
    "        connected_indices, color_list = [], []\n",
    "        for i in range(len(indices)):\n",
    "            node = graph_renderer.node_renderer.data_source.data[\"index\"][indices[i]]\n",
    "            for j in range(len(graph_renderer.edge_renderer.data_source.data[\"start\"])):\n",
    "                if node == graph_renderer.edge_renderer.data_source.data[\"start\"][j]:\n",
    "                    neighbor_node = graph_renderer.edge_renderer.data_source.data[\"end\"][j]\n",
    "                    neighbor_index = graph_renderer.node_renderer.data_source.data[\n",
    "                        \"index\"\n",
    "                    ].index(neighbor_node)\n",
    "                    connected_indices.append(neighbor_index)\n",
    "            for j in range(len(graph_renderer.edge_renderer.data_source.data[\"end\"])):\n",
    "                if node == graph_renderer.edge_renderer.data_source.data[\"end\"][j]:\n",
    "                    neighbor_node = graph_renderer.edge_renderer.data_source.data[\"start\"][\n",
    "                        j\n",
    "                    ]\n",
    "                    neighbor_index = graph_renderer.node_renderer.data_source.data[\n",
    "                        \"index\"\n",
    "                    ].index(neighbor_node)\n",
    "                    connected_indices.append(neighbor_index)\n",
    "        for i in range(len(graph_renderer.node_renderer.data_source.data[\"index\"])):\n",
    "            if i in indices:\n",
    "                color_list.append(\"red\")\n",
    "            elif i in connected_indices:\n",
    "                color_list.append(\"yellow\")\n",
    "            else:\n",
    "                color_list.append(\"blue\")\n",
    "        # 直接graph_renderer.node_renderer.data_source.data[\"color\"][i] = \"red\" としても描画に反映されない\n",
    "        graph_renderer.node_renderer.data_source.data[\"color\"] = color_list\n",
    "\n",
    "    def callback(attr, old, new):\n",
    "        update_color(new)\n",
    "\n",
    "    # 選択したnodeの変更でコールバックする\n",
    "    graph_renderer.node_renderer.data_source.selected.on_change(\n",
    "        \"indices\", callback\n",
    "    )\n",
    "    hover_tool = HoverTool(tooltips=[(\"index\", \"@index\"), (\"color\", \"@color\")])\n",
    "    plot.renderers.append(graph_renderer)\n",
    "    plot.add_tools(TapTool(), BoxSelectTool(), LassoSelectTool(), hover_tool)\n",
    "    doc.add_root(plot)"
   ]
  },
  {
   "cell_type": "code",
   "execution_count": null,
   "id": "45b9effd",
   "metadata": {},
   "outputs": [],
   "source": [
    "show(app, notebook_handle=True)"
   ]
  },
  {
   "cell_type": "code",
   "execution_count": null,
   "id": "bd5be1c0",
   "metadata": {},
   "outputs": [],
   "source": []
  }
 ],
 "metadata": {
  "kernelspec": {
   "display_name": "Python 3 (ipykernel)",
   "language": "python",
   "name": "python3"
  },
  "language_info": {
   "codemirror_mode": {
    "name": "ipython",
    "version": 3
   },
   "file_extension": ".py",
   "mimetype": "text/x-python",
   "name": "python",
   "nbconvert_exporter": "python",
   "pygments_lexer": "ipython3",
   "version": "3.7.7"
  }
 },
 "nbformat": 4,
 "nbformat_minor": 5
}
